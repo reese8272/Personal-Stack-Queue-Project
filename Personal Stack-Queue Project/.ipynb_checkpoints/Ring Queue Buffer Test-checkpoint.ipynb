{
 "cells": [
  {
   "cell_type": "code",
   "execution_count": 1,
   "id": "f7e869ea-8edd-45e8-82f6-81755d198ed9",
   "metadata": {},
   "outputs": [],
   "source": [
    "from Queue import Queue"
   ]
  },
  {
   "cell_type": "code",
   "execution_count": 2,
   "id": "68e1d2ea-febe-46ef-8877-73a4ebbc10ce",
   "metadata": {},
   "outputs": [],
   "source": [
    "Queue = Queue()"
   ]
  },
  {
   "cell_type": "code",
   "execution_count": 3,
   "id": "c8514e2e-618c-4c84-814a-288129c14c38",
   "metadata": {},
   "outputs": [
    {
     "name": "stdout",
     "output_type": "stream",
     "text": [
      "[1 2 None None None None None None None None]\n",
      "\n",
      "[None 2 1 2 None None None None None None]\n",
      "\n",
      "[None None 1 2 1 2 None None None None]\n",
      "\n",
      "[None None None 2 1 2 1 2 None None]\n",
      "\n",
      "[None None None None 1 2 1 2 1 2]\n",
      "\n",
      "[1 2 None None None 2 1 2 1 2]\n",
      "\n",
      "[1 2 1 2 None None 1 2 1 2]\n",
      "\n",
      "[1 2 1 2 1 2 None 2 1 2]\n",
      "\n",
      "[1 2 1 2 1 2 1 2 1 2]\n",
      "\n"
     ]
    }
   ],
   "source": [
    "while True:\n",
    "    Queue.push(1)\n",
    "    Queue.push(2)\n",
    "    print(Queue._lst)\n",
    "    print(\"\")\n",
    "    if Queue.is_full():\n",
    "        break\n",
    "    Queue.pop()"
   ]
  },
  {
   "cell_type": "code",
   "execution_count": null,
   "id": "a22b40c9-bca6-4fb8-843a-5b8a7dc635ff",
   "metadata": {},
   "outputs": [],
   "source": []
  }
 ],
 "metadata": {
  "kernelspec": {
   "display_name": "Python 3 (ipykernel)",
   "language": "python",
   "name": "python3"
  },
  "language_info": {
   "codemirror_mode": {
    "name": "ipython",
    "version": 3
   },
   "file_extension": ".py",
   "mimetype": "text/x-python",
   "name": "python",
   "nbconvert_exporter": "python",
   "pygments_lexer": "ipython3",
   "version": "3.11.4"
  }
 },
 "nbformat": 4,
 "nbformat_minor": 5
}
